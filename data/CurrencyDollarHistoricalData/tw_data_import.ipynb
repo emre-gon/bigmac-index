{
 "cells": [
  {
   "cell_type": "code",
   "execution_count": null,
   "metadata": {},
   "outputs": [],
   "source": [
    "import pandas as pd\n",
    "import numpy as np\n",
    "import sqlite3 as db\n",
    "from datetime import datetime\n",
    "import urllib\n",
    "import os\n",
    "import glob\n",
    "\n",
    "\n",
    "con = db.connect(database=\"../db.sqlite\")"
   ]
  },
  {
   "cell_type": "code",
   "execution_count": null,
   "metadata": {},
   "outputs": [],
   "source": [
    "ytlGecis = datetime(2005,1,31)\n",
    "euroGecis = datetime(2000,1,1)"
   ]
  },
  {
   "cell_type": "code",
   "execution_count": null,
   "metadata": {},
   "outputs": [],
   "source": [
    "files = glob.glob(\"*.csv\")\n",
    "\n",
    "for fileName in files:\n",
    "    currencyCode = fileName.split(' ')[1].replace(\"USD\",\"\").replace(\",\",\"\")\n",
    "    print(currencyCode)\n",
    "    df = pd.read_csv(fileName)\n",
    "    \n",
    "    df = df.rename(columns={\"time\":\"Date\", \"close\": \"Close\"})[[\"Date\", \"Close\"]]\n",
    "    df[\"Currency_id\"] = currencyCode\n",
    "    df[\"Date\"] =  pd.to_datetime(df[\"Date\"])\n",
    "    df.to_sql(\"CurrencyUSDValue\", con,if_exists=\"append\", index=False)\n",
    "    \n",
    "print(\"TW csv insert complete\")    \n",
    "    \n",
    "\n",
    "    "
   ]
  }
 ],
 "metadata": {
  "interpreter": {
   "hash": "3bbe4b04bbda9182dee05bae70819db83e74172125e017501bfa1cf45b554296"
  },
  "kernelspec": {
   "display_name": "Python 3.10.1 64-bit",
   "language": "python",
   "name": "python3"
  },
  "language_info": {
   "codemirror_mode": {
    "name": "ipython",
    "version": 3
   },
   "file_extension": ".py",
   "mimetype": "text/x-python",
   "name": "python",
   "nbconvert_exporter": "python",
   "pygments_lexer": "ipython3",
   "version": "3.10.1"
  },
  "orig_nbformat": 4
 },
 "nbformat": 4,
 "nbformat_minor": 2
}
