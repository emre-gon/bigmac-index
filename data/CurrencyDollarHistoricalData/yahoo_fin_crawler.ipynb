{
 "cells": [
  {
   "cell_type": "code",
   "execution_count": null,
   "metadata": {},
   "outputs": [],
   "source": [
    "import pandas as pd\n",
    "import numpy as np\n",
    "import sqlite3 as db\n",
    "from datetime import datetime\n",
    "import urllib\n",
    "import os\n",
    "import requests\n",
    "from pyquery import PyQuery  \n",
    "\n",
    "\n",
    "con = db.connect(database=\"../db.sqlite\")"
   ]
  },
  {
   "cell_type": "code",
   "execution_count": null,
   "metadata": {},
   "outputs": [],
   "source": [
    "cursor = con.cursor()\n",
    "cursor.execute(\"select CountryCode, Name from Country\")\n",
    "\n",
    "list = []\n",
    "\n",
    "for row in cursor.fetchall():\n",
    "    list.append({\n",
    "        \"CountryCode\": row[0],\n",
    "        \"Country\": row[1]\n",
    "    })\n",
    "    \n",
    "\n",
    "def getCountryCode(name):\n",
    "    \n",
    "    if name == \"United Kingdom\":\n",
    "        return \"GBR\"\n",
    "    elif name == \"Russian Federation\":\n",
    "        return \"RUS\"\n",
    "    elif name == \"Korea\":\n",
    "        return \"KOR\"\n",
    "    elif name == \"Slovak Republic\":\n",
    "        return \"SVK\"\n",
    "    \n",
    "    for c in list:\n",
    "        if c[\"Country\"] == name:\n",
    "            return c[\"CountryCode\"]\n",
    "        \n",
    "    return None"
   ]
  },
  {
   "cell_type": "code",
   "execution_count": null,
   "metadata": {},
   "outputs": [],
   "source": [
    "cursor = con.cursor()\n",
    "cursor.execute(\"select CurrencyCode from Currency\")\n",
    "\n",
    "currencyList = []\n",
    "\n",
    "for row in cursor.fetchall():\n",
    "    currencyList.append(row[0])"
   ]
  },
  {
   "cell_type": "code",
   "execution_count": null,
   "metadata": {},
   "outputs": [],
   "source": [
    "def crawlCurrency(code):\n",
    "    link = \"https://finance.yahoo.com/quote/\"+code+\"=X/history\"\n",
    "    print(link)\n",
    "    \n",
    "    \n",
    "    result = requests.get(link, headers={\n",
    "        'User-Agent': \"Mozilla/5.0 (Windows NT 10.0; Win64; x64; rv:96.0) Gecko/20100101 Firefox/96.0\",\n",
    "    })\n",
    "    \n",
    "    pq = PyQuery(result.text)\n",
    "    secondRow =  PyQuery(pq('table[data-test=\"historical-prices\"] tr:nth-child(2)'))\n",
    "    \n",
    "    dateTxt = secondRow(\"td:nth-child(1)\").text()\n",
    "    close = secondRow(\"td:nth-child(5)\").text()\n",
    "    \n",
    "    date = None\n",
    "    try:\n",
    "        date = datetime.strptime(dateTxt, \"%b %d, %Y\")\n",
    "    except:\n",
    "        return\n",
    "        \n",
    "    \n",
    "    \n",
    "    \n",
    "      \n",
    "    cursor.execute(\"\"\"select count(*) \n",
    "                from CurrencyUSDValue \n",
    "                where Currency_id = ? \n",
    "                    and Date = ? \"\"\", (currencyCode,date,))\n",
    "    \n",
    "    \n",
    "    \n",
    "    count = cursor.fetchall()[0][0]\n",
    "    \n",
    "    if count == 0:\n",
    "        print(\"inserting: \" + currencyCode + \" \" + date.strftime(\"%d %m %Y\"))\n",
    "        cursor.execute(\"\"\"insert into CurrencyUSDValue(Currency_id, Date, Close) Values(?,?,?)\"\"\",\n",
    "                       (currencyCode,date,close,))\n",
    "        print(\"inserted\")\n",
    "    else:\n",
    "        print(currencyCode +  \" \" + date.strftime(\"%d %m %Y\") +\" already exists\")\n",
    "    \n",
    "    \n",
    "    "
   ]
  },
  {
   "cell_type": "code",
   "execution_count": null,
   "metadata": {},
   "outputs": [],
   "source": [
    "for currencyCode in currencyList:\n",
    "    crawlCurrency(currencyCode)\n",
    "con.commit()"
   ]
  }
 ],
 "metadata": {
  "interpreter": {
   "hash": "3bbe4b04bbda9182dee05bae70819db83e74172125e017501bfa1cf45b554296"
  },
  "kernelspec": {
   "display_name": "Python 3.10.1 64-bit",
   "language": "python",
   "name": "python3"
  },
  "language_info": {
   "codemirror_mode": {
    "name": "ipython",
    "version": 3
   },
   "file_extension": ".py",
   "mimetype": "text/x-python",
   "name": "python",
   "nbconvert_exporter": "python",
   "pygments_lexer": "ipython3",
   "version": "3.10.1"
  },
  "orig_nbformat": 4
 },
 "nbformat": 4,
 "nbformat_minor": 2
}
