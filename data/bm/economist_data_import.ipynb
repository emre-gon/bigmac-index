{
 "cells": [
  {
   "cell_type": "code",
   "execution_count": 12,
   "metadata": {},
   "outputs": [],
   "source": [
    "import pandas as pd\n",
    "import numpy as np\n",
    "import sqlite3 as db\n",
    "from datetime import datetime\n",
    "import urllib\n",
    "import os\n",
    "\n",
    "\n",
    "con = db.connect(database=\"../db.sqlite\")"
   ]
  },
  {
   "cell_type": "code",
   "execution_count": 3,
   "metadata": {},
   "outputs": [
    {
     "name": "stdout",
     "output_type": "stream",
     "text": [
      "Downloading: https://github.com/TheEconomist/big-mac-data/blob/ef3a70d3589a4b0d82f2d753c47364a837ebd750/output-data/big-mac-2021-07-01.xls?raw=true\n",
      "Download complete\n"
     ]
    }
   ],
   "source": [
    "\n",
    "excelFileName = 'big-mac-2021-07-01.xls'\n",
    "if not os.path.isfile(excelFileName):\n",
    "    url = \"https://github.com/TheEconomist/big-mac-data/blob/ef3a70d3589a4b0d82f2d753c47364a837ebd750/output-data/\" + excelFileName + \"?raw=true\"\n",
    "    print(\"Downloading: \" + url)\n",
    "    urllib.request.urlretrieve(url, excelFileName)\n",
    "    print(\"Download complete\")\n",
    "\n",
    "\n",
    "\n",
    "xl = pd.ExcelFile(excelFileName)\n",
    "\n",
    "\n",
    "df = pd.DataFrame()\n",
    "\n",
    "for sheetName in xl.sheet_names:\n",
    "        \n",
    "    date = datetime.strptime(sheetName,\"%b%Y\")\n",
    "       \n",
    "    df2 = xl.parse(sheetName)\n",
    "    \n",
    "    \n",
    "    df2[\"date\"] = date\n",
    "    \n",
    "    \n",
    "    df = pd.concat([df,df2])  "
   ]
  },
  {
   "cell_type": "code",
   "execution_count": 9,
   "metadata": {},
   "outputs": [],
   "source": [
    "##### insert countries and currencies #####\n",
    "\n",
    "dfCurrencies = df.groupby(\"currency_code\").first().reset_index()[[\"currency_code\"]]\n",
    "dfCurrencies = dfCurrencies.rename(columns={\"currency_code\": \"CurrencyCode\"})\n",
    "dfCurrencies[\"Name\"] = dfCurrencies[\"CurrencyCode\"]\n",
    "\n",
    "try:\n",
    "    dfCurrencies.to_sql(\"Currency\", con,if_exists=\"append\", index=False)\n",
    "except Exception as e:\n",
    "    print(e)\n",
    "\n",
    "\n",
    "\n",
    "\n",
    "dfCountries = df.groupby(\"iso_a3\").first().reset_index()[[\"iso_a3\", \"Country\", \"currency_code\"]]\n",
    "dfCountries = dfCountries.rename(columns={\"iso_a3\": \"CountryCode\", \"Country\": \"Name\", \"currency_code\": \"Currency_id\"})\n",
    "\n",
    "try:\n",
    "    dfCountries.to_sql(\"Country\", con,if_exists=\"append\", index=False)\n",
    "except Exception as e:\n",
    "    print(e)"
   ]
  },
  {
   "cell_type": "code",
   "execution_count": 17,
   "metadata": {},
   "outputs": [],
   "source": [
    "#### create image folders from db ###\n",
    "\n",
    "\n",
    "cursor = con.cursor()\n",
    "cursor.execute(\"select CountryCode from Country\")\n",
    "rows = cursor.fetchall()\n",
    "\n",
    "\n",
    "for row in rows:\n",
    "    countryCode = row[0]\n",
    "        \n",
    "    if not os.path.exists(\"../country-images/\" + countryCode):\n",
    "        os.makedirs(\"../country-images/\" + countryCode)"
   ]
  },
  {
   "cell_type": "code",
   "execution_count": 25,
   "metadata": {},
   "outputs": [
    {
     "name": "stdout",
     "output_type": "stream",
     "text": [
      "UNIQUE constraint failed: BigMacPrice.Country_id, BigMacPrice.Date\n"
     ]
    }
   ],
   "source": [
    "### insert bigmac values ###\n",
    "\n",
    "dfbm = df[[\"iso_a3\", \"local_price\", \"dollar_price\", \"date\"]].rename(columns={\"iso_a3\":\"Country_id\", \"date\": \"Date\", \"local_price\":\"LocalPrice\",\"dollar_price\":\"USDPrice\"})\n",
    "dfbm[\"Source\"] = \"Economist\"\n",
    "try:\n",
    "    dfbm.to_sql(\"BigMacPrice\", con,if_exists=\"append\", index=False)\n",
    "except Exception as e:\n",
    "    print(e)\n",
    "\n"
   ]
  }
 ],
 "metadata": {
  "interpreter": {
   "hash": "3bbe4b04bbda9182dee05bae70819db83e74172125e017501bfa1cf45b554296"
  },
  "kernelspec": {
   "display_name": "Python 3.10.1 64-bit",
   "language": "python",
   "name": "python3"
  },
  "language_info": {
   "codemirror_mode": {
    "name": "ipython",
    "version": 3
   },
   "file_extension": ".py",
   "mimetype": "text/x-python",
   "name": "python",
   "nbconvert_exporter": "python",
   "pygments_lexer": "ipython3",
   "version": "3.10.1"
  },
  "orig_nbformat": 4
 },
 "nbformat": 4,
 "nbformat_minor": 2
}
