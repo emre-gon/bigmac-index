{
 "cells": [
  {
   "cell_type": "code",
   "execution_count": 9,
   "metadata": {},
   "outputs": [],
   "source": [
    "import pandas as pd\n",
    "import numpy as np\n",
    "import sqlite3 as db\n",
    "from datetime import datetime\n",
    "import urllib\n",
    "import os\n",
    "\n",
    "from selenium import webdriver\n",
    "from webdriver_manager.firefox import GeckoDriverManager\n",
    "\n",
    "import time"
   ]
  },
  {
   "cell_type": "code",
   "execution_count": 6,
   "metadata": {},
   "outputs": [
    {
     "name": "stderr",
     "output_type": "stream",
     "text": [
      "\n",
      "\n",
      "====== WebDriver manager ======\n",
      "Current firefox version is 96.0\n",
      "Get LATEST geckodriver version for 96.0 firefox\n",
      "There is no [win64] geckodriver for browser  in cache\n",
      "Getting latest mozilla release info for v0.30.0\n",
      "Trying to download new driver from https://github.com/mozilla/geckodriver/releases/download/v0.30.0/geckodriver-v0.30.0-win64.zip\n",
      "Driver has been saved in cache [C:\\Users\\egonu\\.wdm\\drivers\\geckodriver\\win64\\v0.30.0]\n",
      "C:\\Users\\egonu\\AppData\\Local\\Temp/ipykernel_688/117907651.py:1: DeprecationWarning: executable_path has been deprecated, please pass in a Service object\n",
      "  driver = webdriver.Firefox(executable_path=GeckoDriverManager().install())\n"
     ]
    }
   ],
   "source": [
    "\n",
    "\n",
    "driver = webdriver.Firefox(executable_path=GeckoDriverManager().install())\n"
   ]
  },
  {
   "cell_type": "code",
   "execution_count": 10,
   "metadata": {},
   "outputs": [],
   "source": [
    "\n",
    "bigmacLink = \"https://siparis.mcdonalds.com.tr/productv2/?pid=41\"\n",
    "\n",
    "driver.get(bigmacLink)\n",
    "\n",
    "time.sleep(2)\n",
    "html = driver.page_source\n",
    "\n",
    "# close web browser\n",
    "driver.close()"
   ]
  },
  {
   "cell_type": "code",
   "execution_count": 16,
   "metadata": {},
   "outputs": [],
   "source": [
    "\n",
    "from pyquery import PyQuery  \n",
    "\n",
    "pq = PyQuery(html)\n",
    "\n",
    "\n",
    "priceTxt = pq(\".item-price\").text().replace(\",\",\".\")\n",
    "\n",
    "price = float(priceTxt)"
   ]
  },
  {
   "cell_type": "code",
   "execution_count": 29,
   "metadata": {},
   "outputs": [
    {
     "name": "stdout",
     "output_type": "stream",
     "text": [
      "29.99\n"
     ]
    }
   ],
   "source": [
    "\n",
    "con = db.connect(database=\"../db.sqlite\")\n",
    "cursor = con.cursor()\n",
    "\n",
    "cursor.execute(\"\"\"select LocalPrice from BigMacPrice\n",
    "                where Country_id = 'TUR'\n",
    "                order by Date desc\n",
    "                limit 1\"\"\")\n",
    "\n",
    "\n",
    "\n",
    "\n",
    "latestPrice = cursor.fetchall()[0][0]\n",
    "print(latestPrice)\n",
    "\n",
    "\n",
    "if price != latestPrice:    \n",
    "    print(\"different price\")\n",
    "    \n",
    "    cursor.execute(\"\"\"select Close from CurrencyUSDValue\n",
    "                    where Currency_id = 'TRY'\n",
    "                    order by Date desc\n",
    "                    limit 1\"\"\")\n",
    "    \n",
    "    currClose = cursor.fetchall()[0][0]\n",
    "    \n",
    "    print(currClose)\n",
    "    \n",
    "    usdPrice = price / currClose\n",
    "    \n",
    "    print(usdPrice)\n",
    "    \n",
    "    \n",
    "    cursor.execute(\"\"\"insert into BigMacPrice(Country_id, Date, LocalPrice, USDPrice, Source) Values(?,?,?,?,?)\"\"\",\n",
    "                    (\"TUR\",datetime.today(),price,usdPrice,\"mc donalds\"))\n",
    "    con.commit()"
   ]
  },
  {
   "cell_type": "code",
   "execution_count": null,
   "metadata": {},
   "outputs": [],
   "source": []
  }
 ],
 "metadata": {
  "interpreter": {
   "hash": "3bbe4b04bbda9182dee05bae70819db83e74172125e017501bfa1cf45b554296"
  },
  "kernelspec": {
   "display_name": "Python 3.10.1 64-bit",
   "language": "python",
   "name": "python3"
  },
  "language_info": {
   "codemirror_mode": {
    "name": "ipython",
    "version": 3
   },
   "file_extension": ".py",
   "mimetype": "text/x-python",
   "name": "python",
   "nbconvert_exporter": "python",
   "pygments_lexer": "ipython3",
   "version": "3.10.1"
  },
  "orig_nbformat": 4
 },
 "nbformat": 4,
 "nbformat_minor": 2
}
