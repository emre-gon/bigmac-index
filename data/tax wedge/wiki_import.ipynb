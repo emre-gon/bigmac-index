{
 "cells": [
  {
   "cell_type": "code",
   "execution_count": 3,
   "metadata": {},
   "outputs": [],
   "source": [
    "import pandas as pd\n",
    "import numpy as np\n",
    "import sqlite3 as db\n",
    "from datetime import datetime\n",
    "import urllib\n",
    "import os\n",
    "from pyquery import PyQuery  \n",
    "\n",
    "\n",
    "con = db.connect(database=\"../db.sqlite\")"
   ]
  },
  {
   "cell_type": "code",
   "execution_count": 36,
   "metadata": {},
   "outputs": [],
   "source": [
    "cursor = con.cursor()\n",
    "cursor.execute(\"select CountryCode, Name from Country\")\n",
    "\n",
    "list = []\n",
    "\n",
    "for row in cursor.fetchall():\n",
    "    list.append({\n",
    "        \"CountryCode\": row[0],\n",
    "        \"Country\": row[1]\n",
    "    })\n",
    "    \n",
    "\n",
    "def getCountryCode(name):\n",
    "    \n",
    "    if name == \"United Kingdom\":\n",
    "        return \"GBR\"\n",
    "    elif name == \"Russian Federation\":\n",
    "        return \"RUS\"\n",
    "    elif name == \"Korea\":\n",
    "        return \"KOR\"\n",
    "    elif name == \"Slovak Republic\":\n",
    "        return \"SVK\"\n",
    "    \n",
    "    for c in list:\n",
    "        if c[\"Country\"] == name:\n",
    "            return c[\"CountryCode\"]\n",
    "        \n",
    "    return None"
   ]
  },
  {
   "cell_type": "code",
   "execution_count": 4,
   "metadata": {},
   "outputs": [],
   "source": [
    "\n",
    "pq = PyQuery(url=\"https://en.wikipedia.org/wiki/List_of_countries_by_tax_rates\")"
   ]
  },
  {
   "cell_type": "code",
   "execution_count": 54,
   "metadata": {},
   "outputs": [],
   "source": [
    "countries = pq(\".wikitable tbody tr td:nth-child(1)\")\n",
    "\n",
    "minWages = pq(\".wikitable tbody tr td:nth-child(3)\")\n",
    "\n",
    "\n",
    "\n",
    "data = []\n",
    "\n",
    "\n",
    "for i in range(0, countries.length):\n",
    "    countryName = PyQuery(countries[i])(\"a\")[0].text\n",
    "    \n",
    "    countryCode =  getCountryCode(countryName)\n",
    "    \n",
    "    if countryCode is not None:\n",
    "        taxTxt = PyQuery(minWages[i]).text()\n",
    "        taxRate = taxTxt.split('%')[0]\n",
    "        \n",
    "        taxRate = taxRate.replace(\"from \", \"\")\n",
    "        \n",
    "        \n",
    "        if taxRate == \"N/A\":\n",
    "            taxRate = \"0\"\n",
    "        \n",
    "        \n",
    "        data.append({\n",
    "            \"Country_id\": countryCode,\n",
    "            \"Rate\": float(taxRate) / 100,\n",
    "            \"Source\": \"wiki\",\n",
    "            \"Profession\": \"Min Wage\",\n",
    "            \"Date\": datetime(2020,1,1),            \n",
    "        })\n",
    "        \n",
    "    \n",
    "    \n",
    "df = pd.DataFrame(data)\n",
    "\n"
   ]
  },
  {
   "cell_type": "code",
   "execution_count": 55,
   "metadata": {},
   "outputs": [],
   "source": [
    "df.to_sql(\"TaxWedge\", con,if_exists=\"append\", index=False)"
   ]
  },
  {
   "cell_type": "code",
   "execution_count": null,
   "metadata": {},
   "outputs": [],
   "source": []
  }
 ],
 "metadata": {
  "interpreter": {
   "hash": "3bbe4b04bbda9182dee05bae70819db83e74172125e017501bfa1cf45b554296"
  },
  "kernelspec": {
   "display_name": "Python 3.10.1 64-bit",
   "language": "python",
   "name": "python3"
  },
  "language_info": {
   "codemirror_mode": {
    "name": "ipython",
    "version": 3
   },
   "file_extension": ".py",
   "mimetype": "text/x-python",
   "name": "python",
   "nbconvert_exporter": "python",
   "pygments_lexer": "ipython3",
   "version": "3.10.1"
  },
  "orig_nbformat": 4
 },
 "nbformat": 4,
 "nbformat_minor": 2
}
