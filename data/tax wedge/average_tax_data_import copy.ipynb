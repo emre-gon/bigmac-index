{
 "cells": [
  {
   "cell_type": "code",
   "execution_count": null,
   "metadata": {},
   "outputs": [],
   "source": [
    "import pandas as pd\n",
    "import numpy as np\n",
    "import sqlite3 as db\n",
    "from datetime import datetime\n",
    "import urllib\n",
    "import os\n",
    "\n",
    "\n",
    "\n",
    "con = db.connect(database=\"../db.sqlite\")"
   ]
  },
  {
   "cell_type": "code",
   "execution_count": null,
   "metadata": {},
   "outputs": [],
   "source": [
    "\n",
    "cursor = con.cursor()\n",
    "cursor.execute(\"select CountryCode, Name from Country\")\n",
    "\n",
    "list = []\n",
    "\n",
    "for row in cursor.fetchall():\n",
    "    list.append({\n",
    "        \"CountryCode\": row[0],\n",
    "        \"Country\": row[1]\n",
    "    })\n",
    "    \n",
    "\n",
    "def getCountryCode(name):\n",
    "    \n",
    "    if name == \"United Kingdom\":\n",
    "        return \"GBR\"\n",
    "    elif name == \"Russian Federation\":\n",
    "        return \"RUS\"\n",
    "    elif name == \"Korea\":\n",
    "        return \"KOR\"\n",
    "    elif name == \"Slovak Republic\":\n",
    "        return \"SVK\"\n",
    "    \n",
    "    for c in list:\n",
    "        if c[\"Country\"] == name:\n",
    "            return c[\"CountryCode\"]\n",
    "        \n",
    "    return None"
   ]
  },
  {
   "cell_type": "code",
   "execution_count": null,
   "metadata": {},
   "outputs": [],
   "source": [
    "xl = pd.ExcelFile(\"Average Tax Wedges 2020.xlsx\")\n",
    "\n",
    "df = xl.parse(0)\n",
    "\n",
    "df[\"Source\"] = \"oecd\"\n",
    "df[\"Country\"] = df[\"Country\"].apply(lambda x: x.strip())"
   ]
  },
  {
   "cell_type": "code",
   "execution_count": null,
   "metadata": {},
   "outputs": [],
   "source": [
    "## replace with country code\n",
    "\n",
    "dfKeys = df.groupby(\"Country\").groups.keys()\n",
    "\n",
    "\n",
    "for key in dfKeys:\n",
    "    if getCountryCode(key) == None:\n",
    "        print(key + \" does not exist in db\")\n",
    "        \n",
    "        \n",
    "df[\"Country\"] = df[\"Country\"].apply(lambda x: getCountryCode(x))"
   ]
  },
  {
   "cell_type": "code",
   "execution_count": null,
   "metadata": {},
   "outputs": [],
   "source": [
    "dfFam2 = df[[\"Country\", \"Family 2 Total Tax Wedge\", \"Source\"]]\n",
    "dfFam2.rename(columns={\"Family 2 Total Tax Wedge\": \"Rate\", \"Country\": \"Country_id\"},inplace=True)\n",
    "dfFam2[\"Rate\"] = dfFam2[\"Rate\"] / 100\n",
    "dfFam2[\"Profession\"] = \"General Family of 2\"\n",
    "dfFam2[\"Date\"] = datetime(2020,1,1)\n",
    "dfFam2.to_sql(\"TaxWedge\", con,if_exists=\"append\", index=False)"
   ]
  },
  {
   "cell_type": "code",
   "execution_count": null,
   "metadata": {},
   "outputs": [],
   "source": [
    "dfSingle = df[[\"Country\", \"Single Tax Wedge\", \"Source\"]]\n",
    "dfSingle.rename(columns={\"Single Tax Wedge\": \"Rate\", \"Country\": \"Country_id\"},inplace=True)\n",
    "dfSingle[\"Rate\"] = dfSingle[\"Rate\"] / 100\n",
    "dfSingle[\"Profession\"] = \"General\"\n",
    "dfSingle[\"Date\"] = datetime(2020,1,1)\n",
    "dfSingle.to_sql(\"TaxWedge\", con,if_exists=\"append\", index=False)"
   ]
  },
  {
   "cell_type": "code",
   "execution_count": null,
   "metadata": {},
   "outputs": [],
   "source": [
    "df[\"Family 2 Total Tax Wedge\"] = df[\"Family 2 Total Tax Wedge\"] - df[\"Family Annual Change\"]\n",
    "df[\"Single Tax Wedge\"] = df[\"Single Tax Wedge\"] - df[\"Single Annual Change\"]"
   ]
  },
  {
   "cell_type": "code",
   "execution_count": null,
   "metadata": {},
   "outputs": [],
   "source": [
    "dfFam2 = df[[\"Country\", \"Family 2 Total Tax Wedge\", \"Source\"]]\n",
    "dfFam2.rename(columns={\"Family 2 Total Tax Wedge\": \"Rate\", \"Country\": \"Country_id\"},inplace=True)\n",
    "dfFam2[\"Rate\"] = dfFam2[\"Rate\"] / 100\n",
    "dfFam2[\"Profession\"] = \"General Family of 2\"\n",
    "dfFam2[\"Date\"] = datetime(2019,1,1)\n",
    "dfFam2.to_sql(\"TaxWedge\", con,if_exists=\"append\", index=False)"
   ]
  },
  {
   "cell_type": "code",
   "execution_count": null,
   "metadata": {},
   "outputs": [],
   "source": [
    "dfSingle = df[[\"Country\", \"Single Tax Wedge\", \"Source\"]]\n",
    "dfSingle.rename(columns={\"Single Tax Wedge\": \"Rate\", \"Country\": \"Country_id\"},inplace=True)\n",
    "dfSingle[\"Rate\"] = dfSingle[\"Rate\"] / 100\n",
    "dfSingle[\"Profession\"] = \"General\"\n",
    "dfSingle[\"Date\"] = datetime(2019,1,1)\n",
    "dfSingle.to_sql(\"TaxWedge\", con,if_exists=\"append\", index=False)"
   ]
  }
 ],
 "metadata": {
  "interpreter": {
   "hash": "3bbe4b04bbda9182dee05bae70819db83e74172125e017501bfa1cf45b554296"
  },
  "kernelspec": {
   "display_name": "Python 3.10.1 64-bit",
   "language": "python",
   "name": "python3"
  },
  "language_info": {
   "codemirror_mode": {
    "name": "ipython",
    "version": 3
   },
   "file_extension": ".py",
   "mimetype": "text/x-python",
   "name": "python",
   "nbconvert_exporter": "python",
   "pygments_lexer": "ipython3",
   "version": "3.10.1"
  },
  "orig_nbformat": 4
 },
 "nbformat": 4,
 "nbformat_minor": 2
}
