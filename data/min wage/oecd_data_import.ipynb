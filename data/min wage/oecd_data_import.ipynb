{
 "cells": [
  {
   "cell_type": "code",
   "execution_count": 2,
   "metadata": {},
   "outputs": [],
   "source": [
    "import pandas as pd\n",
    "import numpy as np\n",
    "import sqlite3 as db\n",
    "from datetime import datetime\n",
    "import urllib\n",
    "import os\n",
    "\n",
    "\n",
    "con = db.connect(database=\"../db.sqlite\")"
   ]
  },
  {
   "cell_type": "code",
   "execution_count": 3,
   "metadata": {},
   "outputs": [],
   "source": [
    "cursor = con.cursor()\n",
    "cursor.execute(\"select CountryCode, Name from Country\")\n",
    "\n",
    "list = []\n",
    "\n",
    "for row in cursor.fetchall():\n",
    "    list.append({\n",
    "        \"CountryCode\": row[0],\n",
    "        \"Country\": row[1]\n",
    "    })\n",
    "    \n",
    "\n",
    "def getCountryCode(name):\n",
    "    \n",
    "    if name == \"United Kingdom\":\n",
    "        return \"GBR\"\n",
    "    elif name == \"Russian Federation\":\n",
    "        return \"RUS\"\n",
    "    elif name == \"Korea\":\n",
    "        return \"KOR\"\n",
    "    elif name == \"Slovak Republic\":\n",
    "        return \"SVK\"\n",
    "    \n",
    "    for c in list:\n",
    "        if c[\"Country\"] == name:\n",
    "            return c[\"CountryCode\"]\n",
    "        \n",
    "    return None"
   ]
  },
  {
   "cell_type": "code",
   "execution_count": 4,
   "metadata": {},
   "outputs": [],
   "source": [
    "xl = pd.ExcelFile(\"oecd 2021.xlsx\")\n",
    "\n",
    "dfMonthly = xl.parse(\"Monthly\")\n",
    "dfAnnually = xl.parse(\"Annually\")\n",
    "\n",
    "dfMonthly[\"Type\"] = \"Monthly\"\n",
    "dfAnnually[\"Type\"] = \"Annually\"\n",
    "\n",
    "\n",
    "df = pd.concat([dfMonthly, dfAnnually])\n",
    "df[\"Source\"] = \"oecd\"\n",
    "df[\"Profession\"] = \"General\""
   ]
  },
  {
   "cell_type": "code",
   "execution_count": 5,
   "metadata": {},
   "outputs": [],
   "source": [
    "## replace with country code\n",
    "\n",
    "dfKeys = df.groupby(\"Country\").groups.keys()\n",
    "\n",
    "\n",
    "for key in dfKeys:\n",
    "    if getCountryCode(key) == None:\n",
    "        print(key + \" does not exist in db\")"
   ]
  },
  {
   "cell_type": "code",
   "execution_count": 6,
   "metadata": {},
   "outputs": [
    {
     "name": "stderr",
     "output_type": "stream",
     "text": [
      "C:\\Users\\egonu\\AppData\\Local\\Temp/ipykernel_19488/616209693.py:5: SettingWithCopyWarning: \n",
      "A value is trying to be set on a copy of a slice from a DataFrame.\n",
      "Try using .loc[row_indexer,col_indexer] = value instead\n",
      "\n",
      "See the caveats in the documentation: https://pandas.pydata.org/pandas-docs/stable/user_guide/indexing.html#returning-a-view-versus-a-copy\n",
      "  yearDf[\"Date\"] = datetime(year, 1, 1)\n"
     ]
    }
   ],
   "source": [
    "#### insert\n",
    "for year in range(2010,2022):\n",
    "    yearStr = str(year)\n",
    "    yearDf = df[[\"Country\", \"Profession\", \"Type\", yearStr, \"Source\"]]\n",
    "    yearDf[\"Date\"] = datetime(year, 1, 1)\n",
    "    yearDf = yearDf.rename(columns={yearStr:\"GrossLocalPrice\"})\n",
    "    yearDf[\"Country\"] = yearDf[\"Country\"].apply(getCountryCode)\n",
    "    yearDf = yearDf.rename(columns={\"Country\":\"Country_id\"})\n",
    "    \n",
    "    yearDf = yearDf.loc[yearDf[\"GrossLocalPrice\"] != \"..\"]\n",
    "    \n",
    "    yearDf.to_sql(\"MinWage\", con,if_exists=\"append\", index=False)\n",
    "    "
   ]
  }
 ],
 "metadata": {
  "interpreter": {
   "hash": "3bbe4b04bbda9182dee05bae70819db83e74172125e017501bfa1cf45b554296"
  },
  "kernelspec": {
   "display_name": "Python 3.10.1 64-bit",
   "language": "python",
   "name": "python3"
  },
  "language_info": {
   "codemirror_mode": {
    "name": "ipython",
    "version": 3
   },
   "file_extension": ".py",
   "mimetype": "text/x-python",
   "name": "python",
   "nbconvert_exporter": "python",
   "pygments_lexer": "ipython3",
   "version": "3.10.1"
  },
  "orig_nbformat": 4
 },
 "nbformat": 4,
 "nbformat_minor": 2
}
